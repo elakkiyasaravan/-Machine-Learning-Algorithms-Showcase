{
  "nbformat": 4,
  "nbformat_minor": 0,
  "metadata": {
    "colab": {
      "provenance": []
    },
    "kernelspec": {
      "name": "python3",
      "display_name": "Python 3"
    },
    "language_info": {
      "name": "python"
    }
  },
  "cells": [
    {
      "cell_type": "code",
      "execution_count": null,
      "metadata": {
        "id": "fmVoW9Dw_Qld"
      },
      "outputs": [],
      "source": [
        "import numpy as np\n",
        "import matplotlib.pyplot as plt\n",
        "from sklearn.cluster import DBSCAN"
      ]
    },
    {
      "cell_type": "code",
      "source": [
        "points = np.array([\n",
        "    [3,7],\n",
        "    [4,6],\n",
        "    [5,5],\n",
        "    [6,4],\n",
        "    [7,3],\n",
        "    [6,2],\n",
        "    [7,2],\n",
        "    [8,4],\n",
        "    [3,3],\n",
        "    [2,6],\n",
        "    [3,5],\n",
        "    [2,4]\n",
        "])"
      ],
      "metadata": {
        "id": "RZV-Cb06_xYV"
      },
      "execution_count": null,
      "outputs": []
    },
    {
      "cell_type": "code",
      "source": [
        "dbscan = DBSCAN(eps=1.9,min_samples=4)\n",
        "labels = dbscan.fit_predict(points)"
      ],
      "metadata": {
        "id": "oJbpkuwq_1bw"
      },
      "execution_count": null,
      "outputs": []
    },
    {
      "cell_type": "code",
      "source": [
        "plt.figure(figsize=(8,6))\n",
        "unique_labels = set(labels)"
      ],
      "metadata": {
        "colab": {
          "base_uri": "https://localhost:8080/",
          "height": 34
        },
        "id": "sxmK5_ZwATcT",
        "outputId": "a549f70c-4ff2-4a90-a28c-4cbc050a7f18"
      },
      "execution_count": null,
      "outputs": [
        {
          "output_type": "display_data",
          "data": {
            "text/plain": [
              "<Figure size 800x600 with 0 Axes>"
            ]
          },
          "metadata": {}
        }
      ]
    },
    {
      "cell_type": "code",
      "source": [
        "for label in unique_labels:\n",
        "  cluster_points = points[labels == label]\n",
        "  if cluster_points.size == 0:\n",
        "    continue #skip empty cluster\n",
        "  if label == -1: #noise points\n",
        "    plt.scatter(cluster_points[:,0],cluster_points[:,1],c='k',marker='x',label='Noise')\n",
        "  else:\n",
        "    plt.scatter(cluster_points[:,0],cluster_points[:,1],label=f'Cluster {label}')\n",
        "plt.legend()\n",
        "plt.title('DBSCAN Clustering Result')\n",
        "plt.xlabel('X')\n",
        "plt.ylabel('Y')\n",
        "plt.grid(True)\n",
        "plt.show()"
      ],
      "metadata": {
        "colab": {
          "base_uri": "https://localhost:8080/",
          "height": 472
        },
        "id": "3XPh6o8BAZsO",
        "outputId": "0a7f2866-421b-4fa9-8337-fb81a42a1e71"
      },
      "execution_count": null,
      "outputs": [
        {
          "output_type": "display_data",
          "data": {
            "text/plain": [
              "<Figure size 640x480 with 1 Axes>"
            ],
            "image/png": "[encoded data removed]"
          },
          "metadata": {}
        }
      ]
    },
    {
      "cell_type": "code",
      "source": [
        "#print cluster lables for each point\n",
        "print(\"Cluster labels for each point:\")\n",
        "for i, label in enumerate(labels,start=1):\n",
        "    print(f\"Point {i}: Cluster {label if label !=-1 else 'Noise'}\")"
      ],
      "metadata": {
        "colab": {
          "base_uri": "https://localhost:8080/"
        },
        "id": "9PixCRF8Ac8q",
        "outputId": "dba7a38d-ba27-435b-ce4d-2112b43716d9"
      },
      "execution_count": null,
      "outputs": [
        {
          "output_type": "stream",
          "name": "stdout",
          "text": [
            "Cluster labels for each point:\n",
            "Point 1: Cluster 0\n",
            "Point 2: Cluster 0\n",
            "Point 3: Cluster 0\n",
            "Point 4: Cluster 1\n",
            "Point 5: Cluster 1\n",
            "Point 6: Cluster 1\n",
            "Point 7: Cluster 1\n",
            "Point 8: Cluster 1\n",
            "Point 9: Cluster Noise\n",
            "Point 10: Cluster 0\n",
            "Point 11: Cluster 0\n",
            "Point 12: Cluster 0\n"
          ]
        }
      ]
    },
    {
      "cell_type": "code",
      "source": [
        "#calculate the number of clusters (excluding noise)\n",
        "n_cluster=len (set(labels)) - (1 if -1 in labels else 0)\n",
        "print(f\"Number of clusters: {n_cluster}\")\n",
        "# mam => print(\"\\nNumber of clusters formed (excluding noise):\",n_clusters)"
      ],
      "metadata": {
        "colab": {
          "base_uri": "https://localhost:8080/"
        },
        "id": "B8G2IaIcB2EU",
        "outputId": "7d5cc0ff-4baf-4048-9f38-db9bfcc665d8"
      },
      "execution_count": null,
      "outputs": [
        {
          "output_type": "stream",
          "name": "stdout",
          "text": [
            "Number of clusters: 2\n"
          ]
        }
      ]
    }
  ]
}